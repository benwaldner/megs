{
 "cells": [
  {
   "cell_type": "code",
   "execution_count": 1,
   "metadata": {},
   "outputs": [],
   "source": [
    "import audiomate\n",
    "import matplotlib.pyplot as plt\n",
    "import numpy as np"
   ]
  },
  {
   "cell_type": "code",
   "execution_count": 2,
   "metadata": {},
   "outputs": [],
   "source": [
    "path = '../data/full'"
   ]
  },
  {
   "cell_type": "code",
   "execution_count": 4,
   "metadata": {},
   "outputs": [],
   "source": [
    "ds = audiomate.Corpus.load(path)\n",
    "train_durations = [u.duration for u in ds.subviews['train'].utterances.values()]"
   ]
  },
  {
   "cell_type": "code",
   "execution_count": 17,
   "metadata": {},
   "outputs": [
    {
     "data": {
      "text/plain": [
       "(array([9.30000e+02, 1.08549e+05, 8.59740e+04, 6.32840e+04, 4.54570e+04,\n",
       "        3.41960e+04, 2.62460e+04, 2.10970e+04, 1.67040e+04, 1.29230e+04,\n",
       "        9.61600e+03, 6.76400e+03, 4.29300e+03, 2.68700e+03, 1.83100e+03,\n",
       "        1.25400e+03, 8.22000e+02, 5.29000e+02, 3.57000e+02, 2.05000e+02,\n",
       "        1.35000e+02, 9.50000e+01, 8.20000e+01, 8.30000e+01]),\n",
       " array([ 0,  1,  2,  3,  4,  5,  6,  7,  8,  9, 10, 11, 12, 13, 14, 15, 16,\n",
       "        17, 18, 19, 20, 21, 22, 23, 24]),\n",
       " <a list of 24 Patch objects>)"
      ]
     },
     "execution_count": 17,
     "metadata": {},
     "output_type": "execute_result"
    },
    {
     "data": {
      "image/png": "[encoded data removed]",
      "text/plain": [
       "<Figure size 720x432 with 1 Axes>"
      ]
     },
     "metadata": {
      "needs_background": "light"
     },
     "output_type": "display_data"
    }
   ],
   "source": [
    "%matplotlib inline\n",
    "bins = np.arange(25)\n",
    "plt.figure(figsize=(10, 6))\n",
    "plt.yscale('log', nonposy='clip')\n",
    "plt.hist(train_durations, bins=bins)"
   ]
  }
 ],
 "metadata": {
  "kernelspec": {
   "display_name": "Python 3",
   "language": "python",
   "name": "python3"
  },
  "language_info": {
   "codemirror_mode": {
    "name": "ipython",
    "version": 3
   },
   "file_extension": ".py",
   "mimetype": "text/x-python",
   "name": "python",
   "nbconvert_exporter": "python",
   "pygments_lexer": "ipython3",
   "version": "3.7.4"
  }
 },
 "nbformat": 4,
 "nbformat_minor": 4
}
